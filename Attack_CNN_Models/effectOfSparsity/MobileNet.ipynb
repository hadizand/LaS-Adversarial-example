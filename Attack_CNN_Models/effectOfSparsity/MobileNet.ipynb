{
 "cells": [
  {
   "cell_type": "code",
   "execution_count": 1,
   "metadata": {},
   "outputs": [
    {
     "name": "stderr",
     "output_type": "stream",
     "text": [
      "Using TensorFlow backend.\n"
     ]
    }
   ],
   "source": [
    "#!/usr/bin/env python3\n",
    "# -*- coding: utf-8 -*-\n",
    "\"\"\"\n",
    "Created on Mon Feb 10 10:30:09 2020\n",
    "\n",
    "@author: hadi\n",
    "\"\"\"\n",
    "#lesion dataset ---- 8 classes\n",
    "\n",
    "import keras\n",
    "from keras.optimizers import SGD\n",
    "from keras.layers import GlobalAveragePooling2D, Dropout, Dense\n",
    "import tensorflow as tf\n",
    "from keras.models import Model\n",
    "from keras.models import model_from_json\n",
    "from keras.layers.normalization import BatchNormalization\n",
    "from keras.models import Model\n",
    "from keras import backend as K\n",
    "from matplotlib import pyplot as plt\n",
    "from sklearn.metrics import log_loss\n",
    "from keras.utils import multi_gpu_model\n",
    "from keras.utils import np_utils\n",
    "import numpy as np\n",
    "import sys\n",
    "sys.setrecursionlimit(1000)\n",
    "from keras.preprocessing.image import ImageDataGenerator\n",
    "from timeit import default_timer as timer    \n",
    "from keras_preprocessing.image import ImageDataGenerator\n",
    "from numpy import linspace\n",
    "import os\n",
    "os.environ[\"CUDA_DEVICE_ORDER\"]=\"PCI_BUS_ID\"\n",
    "os.environ[\"CUDA_VISIBLE_DEVICES\"]=\"0\"\n",
    "from tensorflow.python.client import device_lib\n",
    "device_lib.list_local_devices()# Check if we're using a GPU device\n",
    "from sklearn.metrics import classification_report, confusion_matrix\n",
    "import efficientnet.tfkeras\n",
    "from tensorflow.keras.models import load_model\n",
    "import efficientnet.keras as efn \n",
    "import efficientnet.tfkeras\n",
    "from tensorflow.keras.models import load_model"
   ]
  },
  {
   "cell_type": "code",
   "execution_count": null,
   "metadata": {},
   "outputs": [],
   "source": []
  },
  {
   "cell_type": "code",
   "execution_count": 2,
   "metadata": {
    "scrolled": true
   },
   "outputs": [
    {
     "name": "stdout",
     "output_type": "stream",
     "text": [
      "Found 50000 images belonging to 10 classes.\n",
      "Found 0 images belonging to 10 classes.\n",
      "Found 10000 images belonging to 10 classes.\n",
      "Found 10000 images belonging to 10 classes.\n",
      "Found 10000 images belonging to 10 classes.\n",
      "Found 10000 images belonging to 10 classes.\n",
      "Found 10000 images belonging to 10 classes.\n",
      "Found 10000 images belonging to 10 classes.\n",
      "Found 10000 images belonging to 10 classes.\n",
      "Found 10000 images belonging to 10 classes.\n"
     ]
    }
   ],
   "source": [
    "channel = 3; bs = 16 #batch_size\n",
    "nb_epoch = 10;\n",
    "img_rows, img_cols = 224, 224; # Resolution of inputs\n",
    "dirc = '/home/hadi/python/SparseFool/ordered/CFAR_10/dataset/cifar/raw/';#skin lesion directory\n",
    "\n",
    "\n",
    "\n",
    "\n",
    "datagen = ImageDataGenerator(rescale=1./255.,rotation_range = 90,horizontal_flip=True,vertical_flip = False)\n",
    "train_generator = datagen.flow_from_directory(\n",
    "        directory = dirc + '/train',\n",
    "        target_size=(img_rows, img_cols), color_mode='rgb',\n",
    "        classes=['airplane', 'automobile', 'bird', 'cat', 'deer', 'dog', 'frog', 'horse', 'ship', 'truck'],\n",
    "        class_mode='categorical', batch_size=bs, shuffle=True, seed=42, subset=None, interpolation='bicubic' )\n",
    "\n",
    "valid_generator = datagen.flow_from_directory(\n",
    "        directory=dirc + '/val',\n",
    "        target_size=(img_rows, img_cols), color_mode='rgb',\n",
    "        classes=['airplane', 'automobile', 'bird', 'cat', 'deer', 'dog', 'frog', 'horse', 'ship', 'truck'],\n",
    "        class_mode='categorical',batch_size=bs, shuffle=True, seed=42,subset=None, interpolation='bicubic')\n",
    "\n",
    "datagenTest = ImageDataGenerator(rescale=1./255.,rotation_range = 0,horizontal_flip=False,vertical_flip = False)\n",
    "\n",
    "\n",
    "# test_generator = datagenTest.flow_from_directory(\n",
    "#         directory=dirc + '/test',\n",
    "#         target_size=(img_rows, img_cols), color_mode='rgb',\n",
    "#         classes=['airplane', 'automobile', 'bird', 'cat', 'deer', 'dog', 'frog', 'horse', 'ship', 'truck'],\n",
    "#         class_mode='categorical',batch_size=bs, shuffle=True, seed=42,subset=None, interpolation='bicubic')\n",
    "\n",
    "# test_generator_sparsified_50 = datagenTest.flow_from_directory(\n",
    "#         directory='/home/hadi/python/SparseFool/ordered/CFAR_10/dataset/cifar/sparsified/50Perc/test',\n",
    "#         target_size=(img_rows, img_cols), color_mode='rgb',\n",
    "#         classes=['airplane', 'automobile', 'bird', 'cat', 'deer', 'dog', 'frog', 'horse', 'ship', 'truck'],\n",
    "#         class_mode='categorical',batch_size=bs, shuffle=False, seed=42,subset=None, interpolation='bicubic')\n",
    "\n",
    "\n",
    "# test_generator_sparsified_60 = datagenTest.flow_from_directory(\n",
    "#         directory='/home/hadi/python/SparseFool/ordered/CFAR_10/dataset/cifar/sparsified/60Perc/test',\n",
    "#         target_size=(img_rows, img_cols), color_mode='rgb',\n",
    "#         classes=['airplane', 'automobile', 'bird', 'cat', 'deer', 'dog', 'frog', 'horse', 'ship', 'truck'],\n",
    "#         class_mode='categorical',batch_size=bs, shuffle=False, seed=42,subset=None, interpolation='bicubic')\n",
    "\n",
    "\n",
    "\n",
    "# test_generator_sparsified_70 = datagenTest.flow_from_directory(\n",
    "#         directory='/home/hadi/python/SparseFool/ordered/CFAR_10/dataset/cifar/sparsified/70Perc/test',\n",
    "#         target_size=(img_rows, img_cols), color_mode='rgb',\n",
    "#         classes=['airplane', 'automobile', 'bird', 'cat', 'deer', 'dog', 'frog', 'horse', 'ship', 'truck'],\n",
    "#         class_mode='categorical',batch_size=bs, shuffle=False, seed=42,subset=None, interpolation='bicubic')\n",
    "\n",
    "# test_generator_sparsified_80 = datagenTest.flow_from_directory(\n",
    "#         directory='/home/hadi/python/SparseFool/ordered/CFAR_10/dataset/cifar/sparsified/80Perc/test',\n",
    "#         target_size=(img_rows, img_cols), color_mode='rgb',\n",
    "#         classes=['airplane', 'automobile', 'bird', 'cat', 'deer', 'dog', 'frog', 'horse', 'ship', 'truck'],\n",
    "#         class_mode='categorical',batch_size=bs, shuffle=False, seed=42,subset=None, interpolation='bicubic')\n",
    "\n",
    "##################################Low Frequency\n",
    "test_generator_sparsified_LoF_50 = datagenTest.flow_from_directory(\n",
    "        directory='/home/hadi/python/SparseFool/ordered/CFAR_10/dataset/cifar/sparsified/LoF/50Perc/test',\n",
    "        target_size=(img_rows, img_cols), color_mode='rgb',\n",
    "        classes=['airplane', 'automobile', 'bird', 'cat', 'deer', 'dog', 'frog', 'horse', 'ship', 'truck'],\n",
    "        class_mode='categorical',batch_size=bs, shuffle=False, seed=42,subset=None, interpolation='bicubic')\n",
    "\n",
    "test_generator_sparsified_LoF_60 = datagenTest.flow_from_directory(\n",
    "        directory='/home/hadi/python/SparseFool/ordered/CFAR_10/dataset/cifar/sparsified/LoF/60Perc/test',\n",
    "        target_size=(img_rows, img_cols), color_mode='rgb',\n",
    "        classes=['airplane', 'automobile', 'bird', 'cat', 'deer', 'dog', 'frog', 'horse', 'ship', 'truck'],\n",
    "        class_mode='categorical',batch_size=bs, shuffle=False, seed=42,subset=None, interpolation='bicubic')\n",
    "\n",
    "test_generator_sparsified_LoF_70 = datagenTest.flow_from_directory(\n",
    "        directory='/home/hadi/python/SparseFool/ordered/CFAR_10/dataset/cifar/sparsified/LoF/70Perc/test',\n",
    "        target_size=(img_rows, img_cols), color_mode='rgb',\n",
    "        classes=['airplane', 'automobile', 'bird', 'cat', 'deer', 'dog', 'frog', 'horse', 'ship', 'truck'],\n",
    "        class_mode='categorical',batch_size=bs, shuffle=False, seed=42,subset=None, interpolation='bicubic')\n",
    "\n",
    "test_generator_sparsified_LoF_80 = datagenTest.flow_from_directory(\n",
    "        directory='/home/hadi/python/SparseFool/ordered/CFAR_10/dataset/cifar/sparsified/LoF/80Perc/test',\n",
    "        target_size=(img_rows, img_cols), color_mode='rgb',\n",
    "        classes=['airplane', 'automobile', 'bird', 'cat', 'deer', 'dog', 'frog', 'horse', 'ship', 'truck'],\n",
    "        class_mode='categorical',batch_size=bs, shuffle=False, seed=42,subset=None, interpolation='bicubic')\n",
    "#######################High Frequency\n",
    "\n",
    "test_generator_sparsified_HiF_50 = datagenTest.flow_from_directory(\n",
    "        directory='/home/hadi/python/SparseFool/ordered/CFAR_10/dataset/cifar/sparsified/HiF/50Perc/test',\n",
    "        target_size=(img_rows, img_cols), color_mode='rgb',\n",
    "        classes=['airplane', 'automobile', 'bird', 'cat', 'deer', 'dog', 'frog', 'horse', 'ship', 'truck'],\n",
    "        class_mode='categorical',batch_size=bs, shuffle=False, seed=42,subset=None, interpolation='bicubic')\n",
    "\n",
    "test_generator_sparsified_HiF_60 = datagenTest.flow_from_directory(\n",
    "        directory='/home/hadi/python/SparseFool/ordered/CFAR_10/dataset/cifar/sparsified/HiF/60Perc/test',\n",
    "        target_size=(img_rows, img_cols), color_mode='rgb',\n",
    "        classes=['airplane', 'automobile', 'bird', 'cat', 'deer', 'dog', 'frog', 'horse', 'ship', 'truck'],\n",
    "        class_mode='categorical',batch_size=bs, shuffle=False, seed=42,subset=None, interpolation='bicubic')\n",
    "\n",
    "test_generator_sparsified_HiF_70 = datagenTest.flow_from_directory(\n",
    "        directory='/home/hadi/python/SparseFool/ordered/CFAR_10/dataset/cifar/sparsified/HiF/70Perc/test',\n",
    "        target_size=(img_rows, img_cols), color_mode='rgb',\n",
    "        classes=['airplane', 'automobile', 'bird', 'cat', 'deer', 'dog', 'frog', 'horse', 'ship', 'truck'],\n",
    "        class_mode='categorical',batch_size=bs, shuffle=False, seed=42,subset=None, interpolation='bicubic')\n",
    "\n",
    "test_generator_sparsified_HiF_80 = datagenTest.flow_from_directory(\n",
    "        directory='/home/hadi/python/SparseFool/ordered/CFAR_10/dataset/cifar/sparsified/HiF/80Perc/test',\n",
    "        target_size=(img_rows, img_cols), color_mode='rgb',\n",
    "        classes=['airplane', 'automobile', 'bird', 'cat', 'deer', 'dog', 'frog', 'horse', 'ship', 'truck'],\n",
    "        class_mode='categorical',batch_size=bs, shuffle=False, seed=42,subset=None, interpolation='bicubic')"
   ]
  },
  {
   "cell_type": "code",
   "execution_count": null,
   "metadata": {},
   "outputs": [],
   "source": []
  },
  {
   "cell_type": "code",
   "execution_count": 3,
   "metadata": {
    "scrolled": false
   },
   "outputs": [
    {
     "name": "stdout",
     "output_type": "stream",
     "text": [
      "Downloading data from https://github.com/fchollet/deep-learning-models/releases/download/v0.6/mobilenet_1_0_224_tf_no_top.h5\n",
      "17227776/17225924 [==============================] - 0s 0us/step\n"
     ]
    },
    {
     "name": "stderr",
     "output_type": "stream",
     "text": [
      "WARNING: Logging before flag parsing goes to stderr.\n",
      "W0228 05:27:21.729589 140061332510464 deprecation_wrapper.py:119] From /home/hadi/anaconda3/envs/venv1/lib/python3.6/site-packages/keras/backend/tensorflow_backend.py:422: The name tf.global_variables is deprecated. Please use tf.compat.v1.global_variables instead.\n",
      "\n"
     ]
    },
    {
     "name": "stdout",
     "output_type": "stream",
     "text": [
      "Epoch 1/10\n",
      "1000/1000 [==============================] - 187s 187ms/step - loss: 1.1782 - accuracy: 0.6063\n",
      "Epoch 2/10\n",
      "1000/1000 [==============================] - 186s 186ms/step - loss: 0.7932 - accuracy: 0.7274\n",
      "Epoch 3/10\n",
      "1000/1000 [==============================] - 187s 187ms/step - loss: 0.6679 - accuracy: 0.7737\n",
      "Epoch 4/10\n",
      "1000/1000 [==============================] - 188s 188ms/step - loss: 0.5758 - accuracy: 0.8029\n",
      "Epoch 5/10\n",
      "1000/1000 [==============================] - 179s 179ms/step - loss: 0.5423 - accuracy: 0.8148\n",
      "Epoch 6/10\n",
      "1000/1000 [==============================] - 178s 178ms/step - loss: 0.5142 - accuracy: 0.8240\n",
      "Epoch 7/10\n",
      "1000/1000 [==============================] - 178s 178ms/step - loss: 0.4613 - accuracy: 0.8409\n",
      "Epoch 8/10\n",
      "1000/1000 [==============================] - 179s 179ms/step - loss: 0.4476 - accuracy: 0.8476\n",
      "Epoch 9/10\n",
      "1000/1000 [==============================] - 179s 179ms/step - loss: 0.4394 - accuracy: 0.8479\n",
      "Epoch 10/10\n",
      "1000/1000 [==============================] - 149s 149ms/step - loss: 0.4053 - accuracy: 0.8591\n"
     ]
    },
    {
     "ename": "NameError",
     "evalue": "name 'test_generator' is not defined",
     "output_type": "error",
     "traceback": [
      "\u001b[0;31m---------------------------------------------------------------------------\u001b[0m",
      "\u001b[0;31mNameError\u001b[0m                                 Traceback (most recent call last)",
      "\u001b[0;32m<ipython-input-3-cbc1bd756e0c>\u001b[0m in \u001b[0;36m<module>\u001b[0;34m\u001b[0m\n\u001b[1;32m     16\u001b[0m \u001b[0;34m\u001b[0m\u001b[0m\n\u001b[1;32m     17\u001b[0m \u001b[0;34m\u001b[0m\u001b[0m\n\u001b[0;32m---> 18\u001b[0;31m \u001b[0mprint\u001b[0m\u001b[0;34m(\u001b[0m\u001b[0mtest_generator\u001b[0m\u001b[0;34m.\u001b[0m\u001b[0mclass_indices\u001b[0m\u001b[0;34m)\u001b[0m\u001b[0;34m\u001b[0m\u001b[0;34m\u001b[0m\u001b[0m\n\u001b[0m\u001b[1;32m     19\u001b[0m \u001b[0mscore\u001b[0m \u001b[0;34m=\u001b[0m \u001b[0mparallel_model\u001b[0m\u001b[0;34m.\u001b[0m\u001b[0mevaluate\u001b[0m\u001b[0;34m(\u001b[0m\u001b[0mtest_generator\u001b[0m\u001b[0;34m,\u001b[0m \u001b[0mverbose\u001b[0m\u001b[0;34m=\u001b[0m\u001b[0;36m1\u001b[0m\u001b[0;34m)\u001b[0m\u001b[0;34m\u001b[0m\u001b[0;34m\u001b[0m\u001b[0m\n\u001b[1;32m     20\u001b[0m \u001b[0mprint\u001b[0m\u001b[0;34m(\u001b[0m\u001b[0;34m\"%s: %.2f%%\"\u001b[0m \u001b[0;34m%\u001b[0m \u001b[0;34m(\u001b[0m\u001b[0mparallel_model\u001b[0m\u001b[0;34m.\u001b[0m\u001b[0mmetrics_names\u001b[0m\u001b[0;34m[\u001b[0m\u001b[0;36m1\u001b[0m\u001b[0;34m]\u001b[0m\u001b[0;34m,\u001b[0m \u001b[0mscore\u001b[0m\u001b[0;34m[\u001b[0m\u001b[0;36m1\u001b[0m\u001b[0;34m]\u001b[0m\u001b[0;34m*\u001b[0m\u001b[0;36m100\u001b[0m\u001b[0;34m)\u001b[0m\u001b[0;34m)\u001b[0m\u001b[0;34m\u001b[0m\u001b[0;34m\u001b[0m\u001b[0m\n",
      "\u001b[0;31mNameError\u001b[0m: name 'test_generator' is not defined"
     ]
    }
   ],
   "source": [
    "\n",
    "\n",
    "base_model = keras.applications.mobilenet.MobileNet(include_top=False, weights=\"imagenet\",input_shape=(img_rows, img_cols, 3));  # or weights='noisy-student'\n",
    "CLASSES = 10\n",
    "x = base_model.output\n",
    "x = GlobalAveragePooling2D(name='avg_pool')(x)\n",
    "x = Dropout(0.4)(x)\n",
    "predictions = Dense(CLASSES, activation='softmax')(x)\n",
    "parallel_model = Model(inputs=base_model.input, outputs=predictions)\n",
    "\n",
    "sgd = SGD(lr=1e-3, decay=1e-6, momentum=0.9, nesterov=True)\n",
    "parallel_model.compile(optimizer=sgd, loss='categorical_crossentropy', metrics=['accuracy'])\n",
    "\n",
    "\n",
    "\n",
    "history2 = parallel_model.fit(train_generator,\n",
    "                steps_per_epoch=int(1000),verbose=1,epochs=nb_epoch,validation_data=valid_generator)\n",
    "\n",
    "\n",
    "print(test_generator.class_indices)\n",
    "score = parallel_model.evaluate(test_generator, verbose=1)\n",
    "print(\"%s: %.2f%%\" % (parallel_model.metrics_names[1], score[1]*100))"
   ]
  },
  {
   "cell_type": "code",
   "execution_count": 6,
   "metadata": {},
   "outputs": [
    {
     "name": "stdout",
     "output_type": "stream",
     "text": [
      "model saved\n"
     ]
    }
   ],
   "source": [
    "model_path = '/home/hadi/python/SparseFool/ordered/CFAR_10/effectOfSparsity/MobileNet/saved_model/'\n",
    "parallel_model.save(model_path + 'MobileNet_CIFAR10_raw_10.h5')\n",
    "print('model saved')"
   ]
  },
  {
   "cell_type": "code",
   "execution_count": null,
   "metadata": {},
   "outputs": [],
   "source": []
  },
  {
   "cell_type": "code",
   "execution_count": 3,
   "metadata": {},
   "outputs": [
    {
     "name": "stderr",
     "output_type": "stream",
     "text": [
      "WARNING: Logging before flag parsing goes to stderr.\n",
      "W0301 00:43:41.576109 139791449868032 deprecation_wrapper.py:119] From /home/hadi/anaconda3/envs/venv1/lib/python3.6/site-packages/keras/backend/tensorflow_backend.py:422: The name tf.global_variables is deprecated. Please use tf.compat.v1.global_variables instead.\n",
      "\n"
     ]
    },
    {
     "name": "stdout",
     "output_type": "stream",
     "text": [
      "model is loaded\n"
     ]
    }
   ],
   "source": [
    "model_path = '/home/hadi/python/SparseFool/ordered/CFAR_10/effectOfSparsity/MobileNet/saved_model/'\n",
    "load_mode = True\n",
    "if load_mode:\n",
    "    parallel_model = keras.models.load_model(model_path + 'MobileNet_CIFAR10_raw_10.h5')\n",
    "    sgd = SGD(lr=1e-3, decay=1e-6, momentum=0.9, nesterov=True)\n",
    "    parallel_model.compile(optimizer=sgd, loss='categorical_crossentropy', metrics=['accuracy'])\n",
    "    print('model is loaded')"
   ]
  },
  {
   "cell_type": "code",
   "execution_count": null,
   "metadata": {},
   "outputs": [],
   "source": []
  },
  {
   "cell_type": "code",
   "execution_count": 5,
   "metadata": {
    "scrolled": true
   },
   "outputs": [
    {
     "name": "stdout",
     "output_type": "stream",
     "text": [
      "625/625 [==============================] - 14s 23ms/step\n",
      "raw:  accuracy: 90.72%\n",
      "---------------------------------------------------------------------\n",
      "625/625 [==============================] - 14s 22ms/step\n",
      "50%:  accuracy: 89.14%\n",
      "---------------------------------------------------------------------\n",
      "625/625 [==============================] - 14s 23ms/step\n",
      "60%:  accuracy: 87.30%\n",
      "---------------------------------------------------------------------\n",
      "625/625 [==============================] - 15s 24ms/step\n",
      "70%:  accuracy: 83.75%\n",
      "---------------------------------------------------------------------\n",
      "625/625 [==============================] - 14s 23ms/step\n",
      "80%:  accuracy: 76.64%\n"
     ]
    }
   ],
   "source": [
    "score = parallel_model.evaluate(test_generator, verbose=1)\n",
    "print('raw: ',\"%s: %.2f%%\" % (parallel_model.metrics_names[1], score[1]*100))\n",
    "\n",
    "print('---------------------------------------------------------------------')\n",
    "\n",
    "score = parallel_model.evaluate(test_generator_sparsified_50, verbose=1)\n",
    "print('50%: ', \"%s: %.2f%%\" % (parallel_model.metrics_names[1], score[1]*100))\n",
    "\n",
    "print('---------------------------------------------------------------------')\n",
    "\n",
    "score = parallel_model.evaluate(test_generator_sparsified_60, verbose=1)\n",
    "print('60%: ', \"%s: %.2f%%\" % (parallel_model.metrics_names[1], score[1]*100))\n",
    "\n",
    "print('---------------------------------------------------------------------')\n",
    "\n",
    "score = parallel_model.evaluate(test_generator_sparsified_70, verbose=1)\n",
    "print('70%: ', \"%s: %.2f%%\" % (parallel_model.metrics_names[1], score[1]*100))\n",
    "\n",
    "print('---------------------------------------------------------------------')\n",
    "\n",
    "score = parallel_model.evaluate(test_generator_sparsified_80, verbose=1)\n",
    "print('80%: ', \"%s: %.2f%%\" % (parallel_model.metrics_names[1], score[1]*100))"
   ]
  },
  {
   "cell_type": "code",
   "execution_count": null,
   "metadata": {},
   "outputs": [],
   "source": []
  },
  {
   "cell_type": "code",
   "execution_count": 4,
   "metadata": {},
   "outputs": [
    {
     "name": "stdout",
     "output_type": "stream",
     "text": [
      "625/625 [==============================] - 18s 29ms/step\n",
      "50%:  accuracy: 77.14%\n",
      "---------------------------------------------------------------------\n",
      "625/625 [==============================] - 16s 26ms/step\n",
      "60%:  accuracy: 77.88%\n",
      "---------------------------------------------------------------------\n",
      "625/625 [==============================] - 16s 25ms/step\n",
      "70%:  accuracy: 76.27%\n",
      "---------------------------------------------------------------------\n",
      "625/625 [==============================] - 16s 25ms/step\n",
      "80%:  accuracy: 61.36%\n",
      "---------------------------------------------------------------------\n"
     ]
    }
   ],
   "source": [
    "score = parallel_model.evaluate(test_generator_sparsified_LoF_50, verbose=1)\n",
    "print('50%: ', \"%s: %.2f%%\" % (parallel_model.metrics_names[1], score[1]*100))\n",
    "print('---------------------------------------------------------------------')\n",
    "\n",
    "score = parallel_model.evaluate(test_generator_sparsified_LoF_60, verbose=1)\n",
    "print('60%: ', \"%s: %.2f%%\" % (parallel_model.metrics_names[1], score[1]*100))\n",
    "print('---------------------------------------------------------------------')\n",
    "\n",
    "\n",
    "score = parallel_model.evaluate(test_generator_sparsified_LoF_70, verbose=1)\n",
    "print('70%: ', \"%s: %.2f%%\" % (parallel_model.metrics_names[1], score[1]*100))\n",
    "print('---------------------------------------------------------------------')\n",
    "\n",
    "score = parallel_model.evaluate(test_generator_sparsified_LoF_80, verbose=1)\n",
    "print('80%: ', \"%s: %.2f%%\" % (parallel_model.metrics_names[1], score[1]*100))\n",
    "print('---------------------------------------------------------------------')\n"
   ]
  },
  {
   "cell_type": "code",
   "execution_count": null,
   "metadata": {},
   "outputs": [],
   "source": []
  },
  {
   "cell_type": "code",
   "execution_count": 5,
   "metadata": {},
   "outputs": [
    {
     "name": "stdout",
     "output_type": "stream",
     "text": [
      "625/625 [==============================] - 17s 27ms/step\n",
      "50%:  accuracy: 29.79%\n",
      "---------------------------------------------------------------------\n",
      "625/625 [==============================] - 16s 25ms/step\n",
      "60%:  accuracy: 26.56%\n",
      "---------------------------------------------------------------------\n",
      "625/625 [==============================] - 17s 27ms/step\n",
      "70%:  accuracy: 15.71%\n",
      "---------------------------------------------------------------------\n",
      "625/625 [==============================] - 16s 25ms/step\n",
      "80%:  accuracy: 11.68%\n",
      "---------------------------------------------------------------------\n"
     ]
    }
   ],
   "source": [
    "score = parallel_model.evaluate(test_generator_sparsified_HiF_50, verbose=1)\n",
    "print('50%: ', \"%s: %.2f%%\" % (parallel_model.metrics_names[1], score[1]*100))\n",
    "print('---------------------------------------------------------------------')\n",
    "\n",
    "score = parallel_model.evaluate(test_generator_sparsified_HiF_60, verbose=1)\n",
    "print('60%: ', \"%s: %.2f%%\" % (parallel_model.metrics_names[1], score[1]*100))\n",
    "print('---------------------------------------------------------------------')\n",
    "\n",
    "\n",
    "score = parallel_model.evaluate(test_generator_sparsified_HiF_70, verbose=1)\n",
    "print('70%: ', \"%s: %.2f%%\" % (parallel_model.metrics_names[1], score[1]*100))\n",
    "print('---------------------------------------------------------------------')\n",
    "\n",
    "score = parallel_model.evaluate(test_generator_sparsified_HiF_80, verbose=1)\n",
    "print('80%: ', \"%s: %.2f%%\" % (parallel_model.metrics_names[1], score[1]*100))\n",
    "print('---------------------------------------------------------------------')\n"
   ]
  },
  {
   "cell_type": "code",
   "execution_count": null,
   "metadata": {},
   "outputs": [],
   "source": []
  }
 ],
 "metadata": {
  "kernelspec": {
   "display_name": "Python 3",
   "language": "python",
   "name": "python3"
  },
  "language_info": {
   "codemirror_mode": {
    "name": "ipython",
    "version": 3
   },
   "file_extension": ".py",
   "mimetype": "text/x-python",
   "name": "python",
   "nbconvert_exporter": "python",
   "pygments_lexer": "ipython3",
   "version": "3.6.9"
  }
 },
 "nbformat": 4,
 "nbformat_minor": 4
}
